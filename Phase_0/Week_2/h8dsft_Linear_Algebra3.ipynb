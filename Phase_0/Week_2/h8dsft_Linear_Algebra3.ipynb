{
 "cells": [
  {
   "cell_type": "markdown",
   "metadata": {},
   "source": [
    "# Import library"
   ]
  },
  {
   "cell_type": "code",
   "execution_count": 134,
   "metadata": {},
   "outputs": [],
   "source": [
    "import numpy as np\n",
    "import matplotlib.pyplot as plt"
   ]
  },
  {
   "cell_type": "code",
   "execution_count": 135,
   "metadata": {},
   "outputs": [
    {
     "name": "stdout",
     "output_type": "stream",
     "text": [
      "[[ 1 -1]\n",
      " [ 6 -4]]\n",
      "[[1]\n",
      " [3]]\n"
     ]
    }
   ],
   "source": [
    "# Membuat array pake numpy\n",
    "# revisi element A44 dari 4 menjadi -4\n",
    "\n",
    "A = np.array([[1, -1],\n",
    "              [6, -4]])\n",
    "B = np.array([[1],[3]])\n",
    "\n",
    "print(A)\n",
    "print(B)"
   ]
  },
  {
   "cell_type": "code",
   "execution_count": 136,
   "metadata": {},
   "outputs": [
    {
     "data": {
      "text/plain": [
       "array([[-2],\n",
       "       [-6]])"
      ]
     },
     "execution_count": 136,
     "metadata": {},
     "output_type": "execute_result"
    }
   ],
   "source": [
    "# Dari hasil perkalian dot product\n",
    "# seharusnya matrix B adalah eigen vector dari A\n",
    "# dengan eigen value sebesar -2\n",
    "\n",
    "AB = A @ B\n",
    "AB"
   ]
  },
  {
   "cell_type": "code",
   "execution_count": 137,
   "metadata": {},
   "outputs": [],
   "source": [
    "# mencari nilai eigen dari suatu matrix persegi\n",
    "# breakdown hasil matrix\n",
    "eig_val, eig_vec = np.linalg.eig(A)"
   ]
  },
  {
   "cell_type": "code",
   "execution_count": 138,
   "metadata": {},
   "outputs": [
    {
     "data": {
      "text/plain": [
       "array([-1., -2.])"
      ]
     },
     "execution_count": 138,
     "metadata": {},
     "output_type": "execute_result"
    }
   ],
   "source": [
    "# split variable eigen value\n",
    "# kolom pertama dan kedua adalah eigennya (kelipatan magnitud vectornya)\n",
    "eig_val"
   ]
  },
  {
   "cell_type": "code",
   "execution_count": 139,
   "metadata": {},
   "outputs": [
    {
     "data": {
      "text/plain": [
       "array([[0.4472136 , 0.31622777],\n",
       "       [0.89442719, 0.9486833 ]])"
      ]
     },
     "execution_count": 139,
     "metadata": {},
     "output_type": "execute_result"
    }
   ],
   "source": [
    "# split variable eigen vector\n",
    "# nilai element vectornya sesuai dengan urutan eigen valuenya\n",
    "eig_vec"
   ]
  },
  {
   "cell_type": "markdown",
   "metadata": {},
   "source": [
    "### Pengujian Matrix B untuk eigen value -1"
   ]
  },
  {
   "cell_type": "code",
   "execution_count": 140,
   "metadata": {},
   "outputs": [
    {
     "name": "stderr",
     "output_type": "stream",
     "text": [
      "C:\\Users\\White Flames\\AppData\\Local\\Temp\\ipykernel_18280\\4234256447.py:7: RuntimeWarning: invalid value encountered in sqrt\n",
      "  np.array([B[0,:1]/np.sqrt(eig_val[0]), B[1,:1]/np.sqrt(eig_val[0])])\n"
     ]
    },
    {
     "data": {
      "text/plain": [
       "array([[nan],\n",
       "       [nan]])"
      ]
     },
     "execution_count": 140,
     "metadata": {},
     "output_type": "execute_result"
    }
   ],
   "source": [
    "# kita coba test, apakah matrix B adalah matrix eigennya untuk value -1?\n",
    "\n",
    "# B = np.array([[1],[3]])\n",
    "\n",
    "# eig = np.array(['matrix 1'/np.sqrt(eigen valuenya), 'matrix 2'/np.sqrt(eigen valuenya)])\n",
    "\n",
    "np.array([B[0,:1]/np.sqrt(eig_val[0]), B[1,:1]/np.sqrt(eig_val[0])])"
   ]
  },
  {
   "cell_type": "markdown",
   "metadata": {},
   "source": [
    "### Pengujian Matrix B untuk eigen value -2"
   ]
  },
  {
   "cell_type": "code",
   "execution_count": 141,
   "metadata": {},
   "outputs": [
    {
     "name": "stderr",
     "output_type": "stream",
     "text": [
      "C:\\Users\\White Flames\\AppData\\Local\\Temp\\ipykernel_18280\\1871853912.py:7: RuntimeWarning: invalid value encountered in sqrt\n",
      "  np.array([B[0,:1]/np.sqrt(eig_val[1]), B[1,:1]/np.sqrt(eig_val[1])])\n"
     ]
    },
    {
     "data": {
      "text/plain": [
       "array([[nan],\n",
       "       [nan]])"
      ]
     },
     "execution_count": 141,
     "metadata": {},
     "output_type": "execute_result"
    }
   ],
   "source": [
    "# kita coba test, apakah matrix B adalah matrix eigennya untuk value -1?\n",
    "\n",
    "# B = np.array([[1],[3]])\n",
    "\n",
    "# eig = np.array(['matrix 1'/np.sqrt(eigen valuenya), 'matrix 2'/np.sqrt(eigen valuenya)])\n",
    "\n",
    "np.array([B[0,:1]/np.sqrt(eig_val[1]), B[1,:1]/np.sqrt(eig_val[1])])"
   ]
  },
  {
   "cell_type": "markdown",
   "metadata": {},
   "source": [
    "# BREAK"
   ]
  },
  {
   "cell_type": "code",
   "execution_count": 142,
   "metadata": {},
   "outputs": [
    {
     "data": {
      "image/png": "[encoded data removed]",
      "text/plain": [
       "<Figure size 432x288 with 1 Axes>"
      ]
     },
     "metadata": {
      "needs_background": "light"
     },
     "output_type": "display_data"
    }
   ],
   "source": [
    "TB = np.array([1,3])\n",
    "TAB = np.array([-2,-6])\n",
    "\n",
    "def plot_vector2d(vector2d, origin=[0, 0], **options):\n",
    "    return plt.arrow(origin[0], origin[1], vector2d[0], vector2d[1],\n",
    "              head_width=0.2, head_length=0.3, length_includes_head=True,\n",
    "              **options)\n",
    "\n",
    "plot_vector2d(TB, color='r')\n",
    "plot_vector2d(TAB, color='g')\n",
    "\n",
    "plt.axis([-7, 7, -7, 7])\n",
    "plt.grid()\n",
    "plt.show()"
   ]
  },
  {
   "cell_type": "code",
   "execution_count": null,
   "metadata": {},
   "outputs": [],
   "source": []
  }
 ],
 "metadata": {
  "kernelspec": {
   "display_name": "Python 3.9.12 ('base')",
   "language": "python",
   "name": "python3"
  },
  "language_info": {
   "codemirror_mode": {
    "name": "ipython",
    "version": 3
   },
   "file_extension": ".py",
   "mimetype": "text/x-python",
   "name": "python",
   "nbconvert_exporter": "python",
   "pygments_lexer": "ipython3",
   "version": "3.9.12"
  },
  "orig_nbformat": 4,
  "vscode": {
   "interpreter": {
    "hash": "ad2bdc8ecc057115af97d19610ffacc2b4e99fae6737bb82f5d7fb13d2f2c186"
   }
  }
 },
 "nbformat": 4,
 "nbformat_minor": 2
}
