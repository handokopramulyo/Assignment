{
 "cells": [
  {
   "cell_type": "markdown",
   "metadata": {},
   "source": [
    "## FTDS // NG-1NG1 Assignment"
   ]
  },
  {
   "cell_type": "code",
   "execution_count": 24,
   "metadata": {},
   "outputs": [
    {
     "name": "stdout",
     "output_type": "stream",
     "text": [
      "[951, 402, 984, 651, 360, 69, 408, 319, 601, 485, 980, 507, 725, 547, 544, 615, 83, 165, 141, 501, 263, 617, 865, 575, 219, 390, 984, 592, 236, 105, 942, 941, 386, 462, 47, 418, 907, 344, 236, 375, 823, 566, 597, 978, 328, 615, 953, 345, 399, 162, 758, 219, 918, 237, 412, 566, 826, 248, 866, 950, 626, 949]\n"
     ]
    }
   ],
   "source": [
    "# Buatlah list sesuai soal dengan value :\n",
    "numbers = [951, 402, 984, 651, 360, 69, 408,\n",
    "319, 601, 485, 980, 507, 725, 547, 544, 615,\n",
    "83, 165, 141, 501, 263, 617, 865, 575, 219,\n",
    "390, 984, 592, 236, 105, 942, 941, 386, 462,\n",
    "47, 418, 907, 344, 236, 375, 823, 566, 597,\n",
    "978, 328, 615, 953, 345, 399, 162, 758, 219,\n",
    "918, 237, 412, 566, 826, 248, 866, 950, 626,\n",
    "949]\n",
    "\n",
    "# Cetak numbers\n",
    "print(numbers)"
   ]
  },
  {
   "cell_type": "code",
   "execution_count": 32,
   "metadata": {},
   "outputs": [
    {
     "name": "stdout",
     "output_type": "stream",
     "text": [
      "402\n",
      "984\n",
      "360\n",
      "408\n",
      "980\n",
      "544\n",
      "390\n",
      "984\n",
      "592\n",
      "236\n",
      "942\n",
      "386\n",
      "462\n",
      "418\n",
      "344\n",
      "236\n",
      "566\n",
      "978\n",
      "328\n",
      "162\n",
      "758\n",
      "918\n",
      "-----\n",
      "DONE\n"
     ]
    }
   ],
   "source": [
    "# Loop dan print semua angka genap dari list angka diatas dengan urutan yang sama.\n",
    "# karena list sudah jelas angkanya, maka kita gunakan loop strucutre for aja...\n",
    "\n",
    "for genap in numbers:\n",
    "    if genap % 2 == 0:\n",
    "        print(genap)\n",
    "\n",
    "# Jangan mencetak angka apapun yang muncul setelah angka 918\n",
    "\n",
    "        if genap == 918:\n",
    "            break\n",
    "\n",
    "# Tampilkan pesan ”Done” setelah looping berakhir.\n",
    "print('-'*5)\n",
    "print('DONE')"
   ]
  },
  {
   "cell_type": "code",
   "execution_count": null,
   "metadata": {},
   "outputs": [],
   "source": []
  }
 ],
 "metadata": {
  "kernelspec": {
   "display_name": "Python 3.9.12 ('base')",
   "language": "python",
   "name": "python3"
  },
  "language_info": {
   "name": "python",
   "version": "3.9.12"
  },
  "orig_nbformat": 4,
  "vscode": {
   "interpreter": {
    "hash": "ad2bdc8ecc057115af97d19610ffacc2b4e99fae6737bb82f5d7fb13d2f2c186"
   }
  }
 },
 "nbformat": 4,
 "nbformat_minor": 2
}
