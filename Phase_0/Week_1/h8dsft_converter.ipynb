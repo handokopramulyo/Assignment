{
 "cells": [
  {
   "cell_type": "markdown",
   "metadata": {},
   "source": [
    "### Konversi Celcius to Kelvin & vise versa"
   ]
  },
  {
   "cell_type": "markdown",
   "metadata": {},
   "source": [
    "Buatlah sebuah function yang dapat mengkonversi\n",
    "suhu dari kelvin ke celcius, dan celcius ke kelvin."
   ]
  },
  {
   "cell_type": "code",
   "execution_count": 119,
   "metadata": {},
   "outputs": [],
   "source": [
    "# Input data (celcius to kelvin)\n",
    "#suhu,type,output = 100,'celcius','kelvin'\n",
    "suhu,type,output = 100,'kelvin','celcius'"
   ]
  },
  {
   "cell_type": "code",
   "execution_count": 120,
   "metadata": {},
   "outputs": [
    {
     "name": "stdout",
     "output_type": "stream",
     "text": [
      "Suhu 100 kelvin = -173.14999999999998 celcius\n"
     ]
    }
   ],
   "source": [
    "# Function konversi Celcius ke Kelvin\n",
    "def ctok():\n",
    "   rumus_ctok = suhu + 273.15\n",
    "   return rumus_ctok\n",
    "\n",
    "# Function konversi Kelvin ke Celcius\n",
    "def ktoc():\n",
    "   rumus_ktoc = suhu - 273.15\n",
    "   return rumus_ktoc\n",
    "\n",
    "if type == 'celcius':\n",
    "    print(f'Suhu {suhu} {type} = {ctok()} {output}')\n",
    "else:\n",
    "    print(f'Suhu {suhu} {type} = {ktoc()} {output}')"
   ]
  },
  {
   "cell_type": "markdown",
   "metadata": {},
   "source": [
    "### Konversi celcius/kelvin to Fahrenheit (+ parameter)"
   ]
  },
  {
   "cell_type": "markdown",
   "metadata": {},
   "source": [
    "Buatlah sebuah function yang dapat mengkonversi suhu ke fahrenheit. Tambahkan parameter untuk\n",
    "memastikan bahwa argumen yang dimasukan adalah celcius atau kelvin. Panggil function yang pertama jika diperlukan."
   ]
  },
  {
   "cell_type": "code",
   "execution_count": 128,
   "metadata": {},
   "outputs": [],
   "source": [
    "# Input data (celcius to fahrenheit)\n",
    "#suhu,type,output = 100,'celcius','fahrenheit'\n",
    "suhu,type,output = 100,'kelvin','fahrenheit'"
   ]
  },
  {
   "cell_type": "code",
   "execution_count": 129,
   "metadata": {},
   "outputs": [
    {
     "name": "stdout",
     "output_type": "stream",
     "text": [
      "Suhu 100 kelvin = -279.66999999999996 fahrenheit\n"
     ]
    }
   ],
   "source": [
    "# Function konversi Kelvin/Celcius ke Fahrenheit\n",
    "def tof(type):\n",
    "    if type == \"celcius\":\n",
    "        rumus_ctof = (9/5)*suhu + 32\n",
    "        return rumus_ctof\n",
    "    else:\n",
    "        rumus_ktof = (suhu - 273.15)*9/5 + 32\n",
    "        return rumus_ktof\n",
    "        \n",
    "print(f'Suhu {suhu} {type} = {tof(type)} {output}')\n"
   ]
  },
  {
   "cell_type": "markdown",
   "metadata": {},
   "source": [
    "### Konversi Fahrenheit to celcius/kelvin (+ argumen)"
   ]
  },
  {
   "cell_type": "markdown",
   "metadata": {},
   "source": [
    "Buatlah sebuah function yang dapat mengkonversi suhu dari fahrenheit. Berikan argumen untuk\n",
    "memastikan bahwa outputnya dalah celcius atau kelvin."
   ]
  },
  {
   "cell_type": "code",
   "execution_count": 136,
   "metadata": {},
   "outputs": [],
   "source": [
    "# Input data (celcius to fahrenheit)\n",
    "# suhu,type,output = 100,'fahrenheit','celcius'\n",
    "suhu,type,output = 100,'fahrenheit','kelvin'"
   ]
  },
  {
   "cell_type": "code",
   "execution_count": 137,
   "metadata": {},
   "outputs": [
    {
     "name": "stdout",
     "output_type": "stream",
     "text": [
      "suhu 100 fahrenheit = 310.92777777777775 kelvin\n"
     ]
    }
   ],
   "source": [
    "# Function konversi Fahrenheit ke Celcius/Kelvin\n",
    "def tof(output):\n",
    "    if output == \"celcius\":\n",
    "        print(f'suhu {suhu} {type} = {(suhu - 32)*5/9} {output}')       \n",
    "    else:\n",
    "        print(f'suhu {suhu} {type} = {(suhu - 32)*5/9 + 273.15} {output}') \n",
    "\n",
    "tof(output)"
   ]
  }
 ],
 "metadata": {
  "kernelspec": {
   "display_name": "Python 3.9.12 ('base')",
   "language": "python",
   "name": "python3"
  },
  "language_info": {
   "codemirror_mode": {
    "name": "ipython",
    "version": 3
   },
   "file_extension": ".py",
   "mimetype": "text/x-python",
   "name": "python",
   "nbconvert_exporter": "python",
   "pygments_lexer": "ipython3",
   "version": "3.9.12"
  },
  "orig_nbformat": 4,
  "vscode": {
   "interpreter": {
    "hash": "ad2bdc8ecc057115af97d19610ffacc2b4e99fae6737bb82f5d7fb13d2f2c186"
   }
  }
 },
 "nbformat": 4,
 "nbformat_minor": 2
}
